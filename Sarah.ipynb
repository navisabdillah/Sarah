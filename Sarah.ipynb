{
  "nbformat": 4,
  "nbformat_minor": 0,
  "metadata": {
    "colab": {
      "provenance": [],
      "authorship_tag": "ABX9TyODrZium3Dm3+qqqXwi4QGF",
      "include_colab_link": true
    },
    "kernelspec": {
      "name": "python3",
      "display_name": "Python 3"
    },
    "language_info": {
      "name": "python"
    }
  },
  "cells": [
    {
      "cell_type": "markdown",
      "metadata": {
        "id": "view-in-github",
        "colab_type": "text"
      },
      "source": [
        "<a href=\"https://colab.research.google.com/github/navisabdillah/Sarah/blob/main/Sarah.ipynb\" target=\"_parent\"><img src=\"https://colab.research.google.com/assets/colab-badge.svg\" alt=\"Open In Colab\"/></a>"
      ]
    },
    {
      "cell_type": "code",
      "execution_count": 3,
      "metadata": {
        "colab": {
          "base_uri": "https://localhost:8080/"
        },
        "id": "V-YN-e0PWSD8",
        "outputId": "6807e878-4298-463c-aa7a-df1f0351454f"
      },
      "outputs": [
        {
          "output_type": "stream",
          "name": "stdout",
          "text": [
            "Masukkan nama mahasiswa: Navis\n",
            "Nama : Navis\n",
            "NIM  : 198060100231004\n"
          ]
        }
      ],
      "source": [
        "# data mahasiswa\n",
        "mahasiswa = {\n",
        "    \"Syifa Rurfeiza\": \"198060100231003\",\n",
        "    \"Navis\": \"198060100231004\",\n",
        "    \"Fariz\": \"198060100231005\"\n",
        "}\n",
        "\n",
        "# input nama mahasiswa\n",
        "nama = input(\"Masukkan nama mahasiswa: \")\n",
        "\n",
        "# menampilkan data mahasiswa\n",
        "if nama in mahasiswa:\n",
        "    print(\"Nama :\", nama)\n",
        "    print(\"NIM  :\", mahasiswa[nama])\n",
        "else:\n",
        "    print(\"Data mahasiswa tidak ditemukan\")"
      ]
    },
    {
      "cell_type": "markdown",
      "source": [
        "Nomer 1\n"
      ],
      "metadata": {
        "id": "kye6ICFgYS59"
      }
    },
    {
      "cell_type": "code",
      "source": [
        "# data mahasiswa\n",
        "mahasiswa = {\n",
        "    \"Syifa Rurfeiza\": \"198060100231003\",\n",
        "    \"Sarahita Dinda\": \"198060100231004\",\n",
        "    \"Navis Abdillah\": \"198060100231005\"\n",
        "}\n",
        "\n",
        "# input nama mahasiswa\n",
        "nama_pendek = input(\"Masukkan nama mahasiswa: \")\n",
        "\n",
        "# mencari Nama Panjang mahasiswa berdasarkan Nama Pendek\n",
        "nama_panjang = \"\"\n",
        "for key in mahasiswa.keys():\n",
        "    if key.lower().startswith(nama_pendek.lower()):\n",
        "        nama_panjang = key\n",
        "        break\n",
        "\n",
        "# menampilkan data mahasiswa\n",
        "if nama_panjang != \"\":\n",
        "    print(\"Nama :\", nama_panjang)\n",
        "    print(\"NIM  :\", mahasiswa[nama_panjang])\n",
        "else:\n",
        "    print(\"Data mahasiswa tidak ditemukan\")"
      ],
      "metadata": {
        "colab": {
          "base_uri": "https://localhost:8080/"
        },
        "id": "_PmYsegUXmFw",
        "outputId": "afd9d7d9-1434-4f78-9353-7c336d45a2e6"
      },
      "execution_count": 5,
      "outputs": [
        {
          "output_type": "stream",
          "name": "stdout",
          "text": [
            "Masukkan nama mahasiswa: Sarah\n",
            "Nama : Sarahita Dinda\n",
            "NIM  : 198060100231004\n"
          ]
        }
      ]
    },
    {
      "cell_type": "markdown",
      "source": [
        "Nomer 2\n"
      ],
      "metadata": {
        "id": "nt0ePLgdYVlC"
      }
    },
    {
      "cell_type": "code",
      "source": [
        "# data mahasiswa\n",
        "mahasiswa = {\n",
        "    \"Syifa Rurfeiza\": \"198060100231003\",\n",
        "    \"Navis Abdillah\": \"198060100231004\",\n",
        "    \"Sarahita Dinda\": \"198060100231005\"\n",
        "}\n",
        "\n",
        "# input nim mahasiswa\n",
        "nim = input(\"Masukkan NIM mahasiswa: \")\n",
        "\n",
        "# mencari Nama mahasiswa berdasarkan Nim\n",
        "nama = \"\"\n",
        "for key, value in mahasiswa.items():\n",
        "    if value == nim:\n",
        "        nama = key\n",
        "        break\n",
        "\n",
        "# menampilkan data mahasiswa\n",
        "if nama != \"\":\n",
        "    print(\"Nama :\", nama)\n",
        "    print(\"NIM  :\", nim)\n",
        "else:\n",
        "    print(\"Data mahasiswa tidak ditemukan\")\n"
      ],
      "metadata": {
        "colab": {
          "base_uri": "https://localhost:8080/"
        },
        "id": "N-mikuEhYDek",
        "outputId": "158f108d-10ec-407a-fb0b-64ab2fcf109c"
      },
      "execution_count": 9,
      "outputs": [
        {
          "output_type": "stream",
          "name": "stdout",
          "text": [
            "Masukkan NIM mahasiswa: 198060100231004\n",
            "Nama : Navis Abdillah\n",
            "NIM  : 198060100231004\n"
          ]
        }
      ]
    },
    {
      "cell_type": "markdown",
      "source": [
        "Nomer 3\n"
      ],
      "metadata": {
        "id": "WoYZaOAQYXct"
      }
    },
    {
      "cell_type": "code",
      "source": [
        "# data mahasiswa\n",
        "mahasiswa = {\n",
        "    \"Syifa Rurfeiza\": \"198060100231003\",\n",
        "    \"Syaleisyi Kyirsa\": \"198060100231007\",\n",
        "    \"Agerda Syikurphuja\": \"198060100231011\",\n",
        "    \"Feizaturrisa Misphezir\": \"198060100231015\",\n",
        "    \"Hethiralda\": \"198060100231019\",\n",
        "    \"Sayira Caphi\": \"198060100231023\",\n",
        "    \"Fhirini Dheca\": \"198060100231027\",\n",
        "    \"Yusiphe Ocnera\": \"198060100231031\",\n",
        "    \"Deshi Ryu Carinsih\": \"198060100231035\",\n",
        "    \"Casilowane\": \"198060100231048\",\n",
        "    \"Mismeirah\": \"198060100231052\",\n",
        "    \"Mujinie Linasane\": \"198060100231056\",\n",
        "    \"Adujoe Sepneini\": \"198060102311001\",\n",
        "    \"Alifoe Kucama\": \"198060102311005\"\n",
        "}\n",
        "\n",
        "# menampilkan data mahasiswa\n",
        "for key, value in mahasiswa.items():\n",
        "    print(\"Nama :\", key)\n",
        "    print(\"NIM  :\", value)\n"
      ],
      "metadata": {
        "colab": {
          "base_uri": "https://localhost:8080/"
        },
        "id": "lZNzkfCoYaE9",
        "outputId": "8faa7d94-e3e0-4d0b-90b0-a586465bb848"
      },
      "execution_count": 7,
      "outputs": [
        {
          "output_type": "stream",
          "name": "stdout",
          "text": [
            "Nama : Syifa Rurfeiza\n",
            "NIM  : 198060100231003\n",
            "Nama : Syaleisyi Kyirsa\n",
            "NIM  : 198060100231007\n",
            "Nama : Agerda Syikurphuja\n",
            "NIM  : 198060100231011\n",
            "Nama : Feizaturrisa Misphezir\n",
            "NIM  : 198060100231015\n",
            "Nama : Hethiralda\n",
            "NIM  : 198060100231019\n",
            "Nama : Sayira Caphi\n",
            "NIM  : 198060100231023\n",
            "Nama : Fhirini Dheca\n",
            "NIM  : 198060100231027\n",
            "Nama : Yusiphe Ocnera\n",
            "NIM  : 198060100231031\n",
            "Nama : Deshi Ryu Carinsih\n",
            "NIM  : 198060100231035\n",
            "Nama : Casilowane\n",
            "NIM  : 198060100231048\n",
            "Nama : Mismeirah\n",
            "NIM  : 198060100231052\n",
            "Nama : Mujinie Linasane\n",
            "NIM  : 198060100231056\n",
            "Nama : Adujoe Sepneini\n",
            "NIM  : 198060102311001\n",
            "Nama : Alifoe Kucama\n",
            "NIM  : 198060102311005\n"
          ]
        }
      ]
    }
  ]
}