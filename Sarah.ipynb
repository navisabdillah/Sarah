{
  "nbformat": 4,
  "nbformat_minor": 0,
  "metadata": {
    "colab": {
      "provenance": [],
      "authorship_tag": "ABX9TyMU7rOstFEZaOBL40qwZpJq",
      "include_colab_link": true
    },
    "kernelspec": {
      "name": "python3",
      "display_name": "Python 3"
    },
    "language_info": {
      "name": "python"
    }
  },
  "cells": [
    {
      "cell_type": "markdown",
      "metadata": {
        "id": "view-in-github",
        "colab_type": "text"
      },
      "source": [
        "<a href=\"https://colab.research.google.com/github/navisabdillah/Sarah/blob/main/Sarah.ipynb\" target=\"_parent\"><img src=\"https://colab.research.google.com/assets/colab-badge.svg\" alt=\"Open In Colab\"/></a>"
      ]
    },
    {
      "cell_type": "code",
      "execution_count": 3,
      "metadata": {
        "colab": {
          "base_uri": "https://localhost:8080/"
        },
        "id": "V-YN-e0PWSD8",
        "outputId": "6807e878-4298-463c-aa7a-df1f0351454f"
      },
      "outputs": [
        {
          "output_type": "stream",
          "name": "stdout",
          "text": [
            "Masukkan nama mahasiswa: Navis\n",
            "Nama : Navis\n",
            "NIM  : 198060100231004\n"
          ]
        }
      ],
      "source": [
        "# data mahasiswa\n",
        "mahasiswa = {\n",
        "    \"Syifa Rurfeiza\": \"198060100231003\",\n",
        "    \"Navis\": \"198060100231004\",\n",
        "    \"Fariz\": \"198060100231005\"\n",
        "}\n",
        "\n",
        "# input nama mahasiswa\n",
        "nama = input(\"Masukkan nama mahasiswa: \")\n",
        "\n",
        "# menampilkan data mahasiswa\n",
        "if nama in mahasiswa:\n",
        "    print(\"Nama :\", nama)\n",
        "    print(\"NIM  :\", mahasiswa[nama])\n",
        "else:\n",
        "    print(\"Data mahasiswa tidak ditemukan\")"
      ]
    },
    {
      "cell_type": "markdown",
      "source": [
        "Nomer 1\n"
      ],
      "metadata": {
        "id": "kye6ICFgYS59"
      }
    },
    {
      "cell_type": "code",
      "source": [
        "# data mahasiswa\n",
        "mahasiswa = {\n",
        "    \"Syifa Rurfeiza\": \"198060100231003\",\n",
        "    \"Sarahita Dinda\": \"198060100231004\",\n",
        "    \"Navis Abdillah\": \"198060100231005\"\n",
        "}\n",
        "\n",
        "# input nama mahasiswa\n",
        "nama_pendek = input(\"Masukkan nama mahasiswa: \")\n",
        "\n",
        "# mencari Nama Panjang mahasiswa berdasarkan Nama Pendek\n",
        "nama_panjang = \"\"\n",
        "for key in mahasiswa.keys():\n",
        "    if key.lower().startswith(nama_pendek.lower()):\n",
        "        nama_panjang = key\n",
        "        break\n",
        "\n",
        "# menampilkan data mahasiswa\n",
        "if nama_panjang != \"\":\n",
        "    print(\"Nama :\", nama_panjang)\n",
        "    print(\"NIM  :\", mahasiswa[nama_panjang])\n",
        "else:\n",
        "    print(\"Data mahasiswa tidak ditemukan\")"
      ],
      "metadata": {
        "colab": {
          "base_uri": "https://localhost:8080/"
        },
        "id": "_PmYsegUXmFw",
        "outputId": "afd9d7d9-1434-4f78-9353-7c336d45a2e6"
      },
      "execution_count": 5,
      "outputs": [
        {
          "output_type": "stream",
          "name": "stdout",
          "text": [
            "Masukkan nama mahasiswa: Sarah\n",
            "Nama : Sarahita Dinda\n",
            "NIM  : 198060100231004\n"
          ]
        }
      ]
    },
    {
      "cell_type": "markdown",
      "source": [
        "Nomer 2\n"
      ],
      "metadata": {
        "id": "nt0ePLgdYVlC"
      }
    },
    {
      "cell_type": "code",
      "source": [
        "# data mahasiswa\n",
        "mahasiswa = {\n",
        "    \"Syifa Rurfeiza\": \"198060100231003\",\n",
        "    \"Navis Abdillah\": \"198060100231004\",\n",
        "    \"Sarahita Dinda\": \"198060100231005\"\n",
        "}\n",
        "\n",
        "# input nim mahasiswa\n",
        "nim = input(\"Masukkan NIM mahasiswa: \")\n",
        "\n",
        "# mencari Nama mahasiswa berdasarkan Nim\n",
        "nama = \"\"\n",
        "for key, value in mahasiswa.items():\n",
        "    if value == nim:\n",
        "        nama = key\n",
        "        break\n",
        "\n",
        "# menampilkan data mahasiswa\n",
        "if nama != \"\":\n",
        "    print(\"Nama :\", nama)\n",
        "    print(\"NIM  :\", nim)\n",
        "else:\n",
        "    print(\"Data mahasiswa tidak ditemukan\")\n"
      ],
      "metadata": {
        "colab": {
          "base_uri": "https://localhost:8080/"
        },
        "id": "N-mikuEhYDek",
        "outputId": "158f108d-10ec-407a-fb0b-64ab2fcf109c"
      },
      "execution_count": 9,
      "outputs": [
        {
          "output_type": "stream",
          "name": "stdout",
          "text": [
            "Masukkan NIM mahasiswa: 198060100231004\n",
            "Nama : Navis Abdillah\n",
            "NIM  : 198060100231004\n"
          ]
        }
      ]
    },
    {
      "cell_type": "markdown",
      "source": [
        "Nomer 3 versi 1\n"
      ],
      "metadata": {
        "id": "WoYZaOAQYXct"
      }
    },
    {
      "cell_type": "code",
      "source": [
        "# data mahasiswa\n",
        "mahasiswa = {\n",
        "    \"Syifa Rurfeiza\": \"198060100231003\",\n",
        "    \"Syaleisyi Kyirsa\": \"198060100231007\",\n",
        "    \"Agerda Syikurphuja\": \"198060100231011\",\n",
        "    \"Feizaturrisa Misphezir\": \"198060100231015\",\n",
        "    \"Hethiralda\": \"198060100231019\",\n",
        "    \"Sayira Caphi\": \"198060100231023\",\n",
        "    \"Fhirini Dheca\": \"198060100231027\",\n",
        "    \"Yusiphe Ocnera\": \"198060100231031\",\n",
        "    \"Deshi Ryu Carinsih\": \"198060100231035\",\n",
        "    \"Casilowane\": \"198060100231048\",\n",
        "    \"Mismeirah\": \"198060100231052\",\n",
        "    \"Mujinie Linasane\": \"198060100231056\",\n",
        "    \"Adujoe Sepneini\": \"198060102311001\",\n",
        "    \"Alifoe Kucama\": \"198060102311005\"\n",
        "}\n",
        "\n",
        "# menampilkan data mahasiswa\n",
        "for key, value in mahasiswa.items():\n",
        "    print(\"Nama :\", key)\n",
        "    print(\"NIM  :\", value)\n"
      ],
      "metadata": {
        "colab": {
          "base_uri": "https://localhost:8080/"
        },
        "id": "lZNzkfCoYaE9",
        "outputId": "8faa7d94-e3e0-4d0b-90b0-a586465bb848"
      },
      "execution_count": 7,
      "outputs": [
        {
          "output_type": "stream",
          "name": "stdout",
          "text": [
            "Nama : Syifa Rurfeiza\n",
            "NIM  : 198060100231003\n",
            "Nama : Syaleisyi Kyirsa\n",
            "NIM  : 198060100231007\n",
            "Nama : Agerda Syikurphuja\n",
            "NIM  : 198060100231011\n",
            "Nama : Feizaturrisa Misphezir\n",
            "NIM  : 198060100231015\n",
            "Nama : Hethiralda\n",
            "NIM  : 198060100231019\n",
            "Nama : Sayira Caphi\n",
            "NIM  : 198060100231023\n",
            "Nama : Fhirini Dheca\n",
            "NIM  : 198060100231027\n",
            "Nama : Yusiphe Ocnera\n",
            "NIM  : 198060100231031\n",
            "Nama : Deshi Ryu Carinsih\n",
            "NIM  : 198060100231035\n",
            "Nama : Casilowane\n",
            "NIM  : 198060100231048\n",
            "Nama : Mismeirah\n",
            "NIM  : 198060100231052\n",
            "Nama : Mujinie Linasane\n",
            "NIM  : 198060100231056\n",
            "Nama : Adujoe Sepneini\n",
            "NIM  : 198060102311001\n",
            "Nama : Alifoe Kucama\n",
            "NIM  : 198060102311005\n"
          ]
        }
      ]
    },
    {
      "cell_type": "markdown",
      "source": [
        "Nomer 3 versi 2"
      ],
      "metadata": {
        "id": "hUDtGRpw52RV"
      }
    },
    {
      "cell_type": "code",
      "source": [
        "nama = [\"Syifa Rurfeiza\", \"Syaleisyi Kyirsa\", \"Agerda Syikurphuja\", \"Feizaturrisa Misphezir\", \"Hethiralda\", \n",
        "        \"Sayira Caphi\", \"Fhirini Dheca\", \"Yusiphe Ocnera\", \"Deshi Ryu Carinsih\", \"Casilowane\", \"Mismeirah\", \n",
        "        \"Mujinie Linasane\", \"Adujoe Sepneini\", \"Alifoe Kucama\", \"Rifzi Fawin Maulina\"]\n",
        "\n",
        "nim = [198060100231003, 198060100231007, 198060100231011, 198060100231015, 198060100231019, 198060100231023, \n",
        "       198060100231027, 198060100231031, 198060100231035, 198060100231048, 198060100231052, 198060100231056, \n",
        "       198060100231064, 198060102311001, 198060102311005]\n",
        "\n",
        "for i in range(len(nama)):\n",
        "    print(\"Nama: {} \\t NIM: {}\".format(nama[i], nim[i]))\n"
      ],
      "metadata": {
        "colab": {
          "base_uri": "https://localhost:8080/"
        },
        "id": "H_IcEVfI54BS",
        "outputId": "538b08c5-09e7-4e97-b824-7339e6b1f54c"
      },
      "execution_count": 1,
      "outputs": [
        {
          "output_type": "stream",
          "name": "stdout",
          "text": [
            "Nama: Syifa Rurfeiza \t NIM: 198060100231003\n",
            "Nama: Syaleisyi Kyirsa \t NIM: 198060100231007\n",
            "Nama: Agerda Syikurphuja \t NIM: 198060100231011\n",
            "Nama: Feizaturrisa Misphezir \t NIM: 198060100231015\n",
            "Nama: Hethiralda \t NIM: 198060100231019\n",
            "Nama: Sayira Caphi \t NIM: 198060100231023\n",
            "Nama: Fhirini Dheca \t NIM: 198060100231027\n",
            "Nama: Yusiphe Ocnera \t NIM: 198060100231031\n",
            "Nama: Deshi Ryu Carinsih \t NIM: 198060100231035\n",
            "Nama: Casilowane \t NIM: 198060100231048\n",
            "Nama: Mismeirah \t NIM: 198060100231052\n",
            "Nama: Mujinie Linasane \t NIM: 198060100231056\n",
            "Nama: Adujoe Sepneini \t NIM: 198060100231064\n",
            "Nama: Alifoe Kucama \t NIM: 198060102311001\n",
            "Nama: Rifzi Fawin Maulina \t NIM: 198060102311005\n"
          ]
        }
      ]
    },
    {
      "cell_type": "markdown",
      "source": [
        "UTS versi 1\n",
        "Terdapat 5 data hanya bisa mencari dari 5 data tersebut."
      ],
      "metadata": {
        "id": "rvZsJ0RZ8_8-"
      }
    },
    {
      "cell_type": "code",
      "source": [
        "# definisi data\n",
        "nama = [\"Syifa Rurfeiza\", \"Syaleisyi Kyirsa\", \"Agerda Syikurphuja\", \"Feizaturrisa Misphezir\", \"Hethiralda\",         \"Sayira Caphi\", \"Fhirini Dheca\", \"Yusiphe Ocnera\", \"Deshi Ryu Carinsih\", \"Casilowane\", \"Mismeirah\",         \"Mujinie Linasane\", \"Adujoe Sepneini\", \"Alifoe Kucama\", \"Rifzi Fawin Maulina\"]\n",
        "nim = [\"198060100231003\", \"198060100231007\", \"198060100231011\", \"198060100231015\", \"198060100231019\",        \"198060100231023\", \"198060100231027\", \"198060100231031\", \"198060100231035\", \"198060100231048\",        \"198060100231052\", \"198060100231056\", \"198060100231064\", \"198060102311001\", \"198060102311005\"]\n",
        "\n",
        "# menampilkan data 5 mahasiswa\n",
        "for i in range(5):\n",
        "    print(\"Data ke-\", i+1)\n",
        "    print(\"Nama: \", nama[i])\n",
        "    print(\"NIM: \", nim[i])\n",
        "    print()\n",
        "\n",
        "# mencari data berdasarkan input Nama atau Nim\n",
        "while True:\n",
        "    pilihan = input(\"Mau mencari data berdasarkan NIM atau Nama? (NIM/Nama/Selesai): \")\n",
        "    if pilihan.lower() == \"selesai\":\n",
        "        break\n",
        "    elif pilihan.lower() == \"nim\":\n",
        "        cari_nim = input(\"Masukkan NIM yang ingin dicari: \")\n",
        "        if cari_nim in nim:\n",
        "            index = nim.index(cari_nim)\n",
        "            print(\"Data ditemukan!\")\n",
        "            print(\"Nama: \", nama[index])\n",
        "            print(\"NIM: \", nim[index])\n",
        "        else:\n",
        "            print(\"Data tidak ditemukan!\")\n",
        "    elif pilihan.lower() == \"nama\":\n",
        "        cari_nama = input(\"Masukkan Nama yang ingin dicari: \")\n",
        "        if cari_nama in nama:\n",
        "            index = nama.index(cari_nama)\n",
        "            print(\"Data ditemukan!\")\n",
        "            print(\"Nama: \", nama[index])\n",
        "            print(\"NIM: \", nim[index])\n",
        "        else:\n",
        "            print(\"Data tidak ditemukan!\")\n",
        "    else:\n",
        "        print(\"Pilihan tidak valid!\")\n"
      ],
      "metadata": {
        "colab": {
          "base_uri": "https://localhost:8080/"
        },
        "id": "cuW3lbll56Ju",
        "outputId": "acf5b93a-08c3-4771-cdb1-8b765f83a573"
      },
      "execution_count": 2,
      "outputs": [
        {
          "name": "stdout",
          "output_type": "stream",
          "text": [
            "Data ke- 1\n",
            "Nama:  Syifa Rurfeiza\n",
            "NIM:  198060100231003\n",
            "\n",
            "Data ke- 2\n",
            "Nama:  Syaleisyi Kyirsa\n",
            "NIM:  198060100231007\n",
            "\n",
            "Data ke- 3\n",
            "Nama:  Agerda Syikurphuja\n",
            "NIM:  198060100231011\n",
            "\n",
            "Data ke- 4\n",
            "Nama:  Feizaturrisa Misphezir\n",
            "NIM:  198060100231015\n",
            "\n",
            "Data ke- 5\n",
            "Nama:  Hethiralda\n",
            "NIM:  198060100231019\n",
            "\n",
            "Mau mencari data berdasarkan NIM atau Nama? (NIM/Nama/Selesai): Nim\n",
            "Masukkan NIM yang ingin dicari: 198060100231019\n",
            "Data ditemukan!\n",
            "Nama:  Hethiralda\n",
            "NIM:  198060100231019\n",
            "Mau mencari data berdasarkan NIM atau Nama? (NIM/Nama/Selesai): Nama\n",
            "Masukkan Nama yang ingin dicari: Sayira\n",
            "Data tidak ditemukan!\n",
            "Mau mencari data berdasarkan NIM atau Nama? (NIM/Nama/Selesai): Selesai\n"
          ]
        }
      ]
    },
    {
      "cell_type": "markdown",
      "source": [
        "UTS versi 2\n",
        "Dapat mencari 5 data dengan 5 kali perulangan."
      ],
      "metadata": {
        "id": "KPaZyjvn9C8X"
      }
    },
    {
      "cell_type": "code",
      "source": [
        "nama = [\"Syifa Rurfeiza\", \"Syaleisyi Kyirsa\", \"Agerda Syikurphuja\", \"Feizaturrisa Misphezir\", \"Hethiralda\", \n",
        "        \"Sayira Caphi\", \"Fhirini Dheca\", \"Yusiphe Ocnera\", \"Deshi Ryu Carinsih\", \"Casilowane\", \"Mismeirah\", \n",
        "        \"Mujinie Linasane\", \"Adujoe Sepneini\", \"Alifoe Kucama\", \"Rifzi Fawin Maulina\"]\n",
        "nim = [198060100231003, 198060100231007, 198060100231011, 198060100231015, 198060100231019, \n",
        "       198060100231023, 198060100231027, 198060100231031, 198060100231035, 198060100231048, \n",
        "       198060100231052, 198060100231056, 198060100231064, 198060102311001, 198060102311005]\n",
        "\n",
        "for i in range(5):\n",
        "    cari_nim = int(input(\"Masukkan NIM yang ingin dicari: \"))\n",
        "    for j in range(len(nim)):\n",
        "        if cari_nim == nim[j]:\n",
        "            print(\"Mahasiswa dengan NIM\", nim[j], \"adalah\", nama[j])\n",
        "            break\n",
        "    else:\n",
        "        print(\"Mahasiswa dengan NIM\", cari_nim, \"tidak ditemukan.\")\n"
      ],
      "metadata": {
        "colab": {
          "base_uri": "https://localhost:8080/"
        },
        "id": "NL1gPk0J75QD",
        "outputId": "595f3097-610c-4cc3-f9f5-21827c857e6f"
      },
      "execution_count": 3,
      "outputs": [
        {
          "output_type": "stream",
          "name": "stdout",
          "text": [
            "Masukkan NIM yang ingin dicari: 198060100231056\n",
            "Mahasiswa dengan NIM 198060100231056 adalah Mujinie Linasane\n",
            "Masukkan NIM yang ingin dicari: 198060102311001\n",
            "Mahasiswa dengan NIM 198060102311001 adalah Alifoe Kucama\n",
            "Masukkan NIM yang ingin dicari: 198060100231048\n",
            "Mahasiswa dengan NIM 198060100231048 adalah Casilowane\n",
            "Masukkan NIM yang ingin dicari: 198060100231019\n",
            "Mahasiswa dengan NIM 198060100231019 adalah Hethiralda\n",
            "Masukkan NIM yang ingin dicari: 198060102311005\n",
            "Mahasiswa dengan NIM 198060102311005 adalah Rifzi Fawin Maulina\n"
          ]
        }
      ]
    },
    {
      "cell_type": "markdown",
      "source": [
        "UTS versi 3\n",
        "Hanya terdapat 5 data dan bisa menambahkan data serta bisa mencari data yang baru."
      ],
      "metadata": {
        "id": "nwjKYU0k9G7d"
      }
    },
    {
      "cell_type": "code",
      "source": [
        "# inisialisasi data\n",
        "nama = [\"Syifa Rurfeiza\", \"Syaleisyi Kyirsa\", \"Agerda Syikurphuja\", \"Feizaturrisa Misphezir\", \"Hethiralda\"]\n",
        "nim = [\"198060100231003\", \"198060100231007\", \"198060100231011\", \"198060100231015\", \"198060100231019\"]\n",
        "\n",
        "# perulangan input data\n",
        "for i in range(5):\n",
        "    n = input(\"Masukkan nama mahasiswa ke-\" + str(i+1) + \": \")\n",
        "    m = input(\"Masukkan NIM mahasiswa ke-\" + str(i+1) + \": \")\n",
        "    nama.append(n)\n",
        "    nim.append(m)\n",
        "\n",
        "# tampilkan data\n",
        "print(\"Data mahasiswa:\")\n",
        "for i in range(len(nama)):\n",
        "    print(\"Nama:\", nama[i], \"\\tNIM:\", nim[i])\n",
        "\n",
        "# cari data\n",
        "cari = input(\"Masukkan nama atau NIM mahasiswa yang ingin dicari: \")\n",
        "found = False\n",
        "for i in range(len(nama)):\n",
        "    if cari.lower() in nama[i].lower() or cari == nim[i]:\n",
        "        print(\"Data ditemukan:\")\n",
        "        print(\"Nama:\", nama[i], \"\\tNIM:\", nim[i])\n",
        "        found = True\n",
        "if not found:\n",
        "    print(\"Data tidak ditemukan.\")\n"
      ],
      "metadata": {
        "colab": {
          "base_uri": "https://localhost:8080/"
        },
        "id": "Wr218Y2i8Uyy",
        "outputId": "673c8a12-91eb-4168-d8e1-dfc1ca122e19"
      },
      "execution_count": 5,
      "outputs": [
        {
          "output_type": "stream",
          "name": "stdout",
          "text": [
            "Masukkan nama mahasiswa ke-1: Navis\n",
            "Masukkan NIM mahasiswa ke-1: 1829812981\n",
            "Masukkan nama mahasiswa ke-2: Sarah\n",
            "Masukkan NIM mahasiswa ke-2: 20202\n",
            "Masukkan nama mahasiswa ke-3: Fariz\n",
            "Masukkan NIM mahasiswa ke-3: 123213\n",
            "Masukkan nama mahasiswa ke-4: Tarisha\n",
            "Masukkan NIM mahasiswa ke-4: 2321434\n",
            "Masukkan nama mahasiswa ke-5: Aza\n",
            "Masukkan NIM mahasiswa ke-5: 123213\n",
            "Data mahasiswa:\n",
            "Nama: Syifa Rurfeiza \tNIM: 198060100231003\n",
            "Nama: Syaleisyi Kyirsa \tNIM: 198060100231007\n",
            "Nama: Agerda Syikurphuja \tNIM: 198060100231011\n",
            "Nama: Feizaturrisa Misphezir \tNIM: 198060100231015\n",
            "Nama: Hethiralda \tNIM: 198060100231019\n",
            "Nama: Navis \tNIM: 1829812981\n",
            "Nama: Sarah \tNIM: 20202\n",
            "Nama: Fariz \tNIM: 123213\n",
            "Nama: Tarisha \tNIM: 2321434\n",
            "Nama: Aza \tNIM: 123213\n",
            "Masukkan nama atau NIM mahasiswa yang ingin dicari: Navis\n",
            "Data ditemukan:\n",
            "Nama: Navis \tNIM: 1829812981\n"
          ]
        }
      ]
    },
    {
      "cell_type": "markdown",
      "source": [
        "UTS Versi terbaru"
      ],
      "metadata": {
        "id": "n-oDrOuJGJlT"
      }
    },
    {
      "cell_type": "code",
      "source": [
        "# definisi data\n",
        "nama = [\"Syifa Rurfeiza\", \"Syaleisyi Kyirsa\", \"Agerda Syikurphuja\", \"Feizaturrisa Misphezir\", \"Hethiralda\",\n",
        "        \"Sayira Caphi\", \"Fhirini Dheca\", \"Yusiphe Ocnera\", \"Deshi Ryu Carinsih\", \"Casilowane\", \"Mismeirah\",\n",
        "        \"Mujinie Linasane\", \"Adujoe Sepneini\", \"Alifoe Kucama\", \"Rifzi Fawin Maulina\"]\n",
        "nim = [\"198060100231003\", \"198060100231007\", \"198060100231011\", \"198060100231015\", \"198060100231019\",\n",
        "       \"198060100231023\", \"198060100231027\", \"198060100231031\", \"198060100231035\", \"198060100231048\",\n",
        "       \"198060100231052\", \"198060100231056\", \"198060100231064\", \"198060102311001\", \"198060102311005\"]\n",
        "\n",
        "\n",
        "def tampilkan_data():\n",
        "    print(\"Daftar Mahasiswa:\")\n",
        "    for i in range(len(nama)):\n",
        "        print(\"Data ke-\", i+1)\n",
        "        print(\"Nama: \", nama[i])\n",
        "        print(\"NIM: \", nim[i])\n",
        "        print()\n",
        "\n",
        "\n",
        "def cari_nim():\n",
        "    cari_nim = input(\"Masukkan NIM yang ingin dicari: \")\n",
        "    if cari_nim in nim:\n",
        "        index = nim.index(cari_nim)\n",
        "        print(\"Data ditemukan!\")\n",
        "        print(\"Nama: \", nama[index])\n",
        "        print(\"NIM: \", nim[index])\n",
        "    else:\n",
        "        print(\"Data tidak ditemukan!\")\n",
        "\n",
        "\n",
        "def cari_nama():\n",
        "    cari_nama = input(\"Masukkan Nama yang ingin dicari: \")\n",
        "    if cari_nama in nama:\n",
        "        index = nama.index(cari_nama)\n",
        "        print(\"Data ditemukan!\")\n",
        "        print(\"Nama: \", nama[index])\n",
        "        print(\"NIM: \", nim[index])\n",
        "    else:\n",
        "        print(\"Data tidak ditemukan!\")\n",
        "\n",
        "\n",
        "while True:\n",
        "    print(\"Menu Pilihan:\")\n",
        "    print(\"1. Tampilkan Seluruh Data\")\n",
        "    print(\"2. Cari Data Berdasarkan NIM\")\n",
        "    print(\"3. Cari Data Berdasarkan Nama\")\n",
        "    print(\"4. Keluar\")\n",
        "\n",
        "    pilihan = input(\"Masukkan pilihan Anda (1/2/3/4): \")\n",
        "\n",
        "    if pilihan == \"1\":\n",
        "        tampilkan_data()\n",
        "    elif pilihan == \"2\":\n",
        "        cari_nim()\n",
        "    elif pilihan == \"3\":\n",
        "        cari_nama()\n",
        "    elif pilihan == \"4\":\n",
        "        print(\"Terima kasih!\")\n",
        "        break\n",
        "    else:\n",
        "        print(\"Pilihan tidak valid! Silakan masukkan pilihan yang benar.\")\n"
      ],
      "metadata": {
        "colab": {
          "base_uri": "https://localhost:8080/"
        },
        "id": "InXluWJPFJzR",
        "outputId": "af98c70d-c91a-4cbc-fdcb-32b6a7d4f6b3"
      },
      "execution_count": 8,
      "outputs": [
        {
          "output_type": "stream",
          "name": "stdout",
          "text": [
            "Menu Pilihan:\n",
            "1. Tampilkan Seluruh Data\n",
            "2. Cari Data Berdasarkan NIM\n",
            "3. Cari Data Berdasarkan Nama\n",
            "4. Keluar\n",
            "Masukkan pilihan Anda (1/2/3/4): 3\n",
            "Masukkan Nama yang ingin dicari: Mismeirah\n",
            "Data ditemukan!\n",
            "Nama:  Mismeirah\n",
            "NIM:  198060100231052\n",
            "Menu Pilihan:\n",
            "1. Tampilkan Seluruh Data\n",
            "2. Cari Data Berdasarkan NIM\n",
            "3. Cari Data Berdasarkan Nama\n",
            "4. Keluar\n",
            "Masukkan pilihan Anda (1/2/3/4): 4\n",
            "Terima kasih!\n"
          ]
        }
      ]
    },
    {
      "cell_type": "code",
      "source": [
        "# definisi data\n",
        "nama = [\"Syifa Rurfeiza\", \"Syaleisyi Kyirsa\", \"Agerda Syikurphuja\", \"Feizaturrisa Misphezir\", \"Hethiralda\",\n",
        "        \"Sayira Caphi\", \"Fhirini Dheca\", \"Yusiphe Ocnera\", \"Deshi Ryu Carinsih\", \"Casilowane\", \"Mismeirah\",\n",
        "        \"Mujinie Linasane\", \"Adujoe Sepneini\", \"Alifoe Kucama\", \"Rifzi Fawin Maulina\"]\n",
        "nim = [\"198060100231003\", \"198060100231007\", \"198060100231011\", \"198060100231015\", \"198060100231019\",\n",
        "       \"198060100231023\", \"198060100231027\", \"198060100231031\", \"198060100231035\", \"198060100231048\",\n",
        "       \"198060100231052\", \"198060100231056\", \"198060100231064\", \"198060102311001\", \"198060102311005\"]\n",
        "\n",
        "# membuat dictionary untuk memetakan nama pendek ke nama lengkap\n",
        "nama_pendek = {}\n",
        "for n in nama:\n",
        "    # mengambil inisial setiap kata pada nama\n",
        "    inisial = \"\".join([k[0] for k in n.split()])\n",
        "    nama_pendek[inisial.lower()] = n\n",
        "\n",
        "def tampilkan_data():\n",
        "    print(\"Daftar Mahasiswa:\")\n",
        "    for i in range(len(nama)):\n",
        "        print(\"Data ke-\", i+1)\n",
        "        print(\"Nama: \", nama[i])\n",
        "        print(\"NIM: \", nim[i])\n",
        "        print()\n",
        "\n",
        "def cari_nim():\n",
        "    cari_nim = input(\"Masukkan NIM yang ingin dicari: \")\n",
        "    if cari_nim in nim:\n",
        "        index = nim.index(cari_nim)\n",
        "        print(\"Data ditemukan!\")\n",
        "        print(\"Nama: \", nama[index])\n",
        "        print(\"NIM: \", nim[index])\n",
        "    else:\n",
        "        print(\"Data tidak ditemukan!\")\n",
        "\n",
        "def cari_nama():\n",
        "    cari_nama = input(\"Masukkan Nama/Nama Pendek yang ingin dicari: \")\n",
        "    if cari_nama in nama_pendek:\n",
        "        index = nama.index(nama_pendek[cari_nama])\n",
        "        print(\"Data ditemukan!\")\n",
        "        print(\"Nama: \", nama[index])\n",
        "        print(\"NIM: \", nim[index])\n",
        "    elif cari_nama in [n.split()[0] for n in nama]:\n",
        "        index = [n.split()[0] for n in nama].index(cari_nama)\n",
        "        print(\"Data ditemukan!\")\n",
        "        print(\"Nama: \", nama[index])\n",
        "        print(\"NIM: \", nim[index])\n",
        "    else:\n",
        "        print(\"Data tidak ditemukan!\")\n",
        "\n",
        "while True:\n",
        "    print(\"Menu Pilihan:\")\n",
        "    print(\"1. Tampilkan Seluruh Data\")\n",
        "    print(\"2. Cari Data Berdasarkan NIM\")\n",
        "    print(\"3. Cari Data Berdasarkan Nama\")\n",
        "    print(\"4. Keluar\")\n",
        "\n",
        "    pilihan = input(\"Masukkan pilihan Anda (1/2/3/4): \")\n",
        "\n",
        "    if pilihan == \"1\":\n",
        "        tampilkan_data()\n",
        "    elif pilihan == \"2\":\n",
        "        cari_nim()\n",
        "    elif pilihan == \"3\":\n",
        "        cari_nama()\n",
        "    elif pilihan == \"4\":\n",
        "        print(\"Terimakasih\")\n",
        "        break\n",
        "    else:\n",
        "        print(\"Pilihan tidak valid! Silakan masukkan pilihan yang benar.\")\n"
      ],
      "metadata": {
        "colab": {
          "base_uri": "https://localhost:8080/"
        },
        "id": "3Q7kUvwHLMxx",
        "outputId": "683ca692-f98e-43c7-fca5-043615fcf93a"
      },
      "execution_count": 16,
      "outputs": [
        {
          "output_type": "stream",
          "name": "stdout",
          "text": [
            "Menu Pilihan:\n",
            "1. Tampilkan Seluruh Data\n",
            "2. Cari Data Berdasarkan NIM\n",
            "3. Cari Data Berdasarkan Nama\n",
            "4. Keluar\n",
            "Masukkan pilihan Anda (1/2/3/4): 4\n",
            "Terimakasih\n"
          ]
        }
      ]
    }
  ]
}